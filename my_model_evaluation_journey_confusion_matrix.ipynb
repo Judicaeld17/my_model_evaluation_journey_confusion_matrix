{
 "cells": [
  {
   "cell_type": "code",
   "execution_count": 2,
   "id": "9986b721",
   "metadata": {},
   "outputs": [],
   "source": [
    "import pandas as pd \n",
    "from sklearn.metrics import confusion_matrix"
   ]
  },
  {
   "cell_type": "code",
   "execution_count": 3,
   "id": "2c6f0005",
   "metadata": {},
   "outputs": [],
   "source": [
    "ytrue=[2, 0, 2, 2, 0, 1, 1, 2, 2, 0, 1, 2] \n",
    "ypred=[0, 0, 2, 1, 0, 2, 1, 0, 2, 0, 2, 2]"
   ]
  },
  {
   "cell_type": "code",
   "execution_count": 4,
   "id": "92ea7900",
   "metadata": {},
   "outputs": [],
   "source": [
    "def my_model_evaluation_journey_confusion_matrix(ytrue,ypred):\n",
    "    return confusion_matrix(ytrue,ypred)"
   ]
  },
  {
   "cell_type": "code",
   "execution_count": 5,
   "id": "5132cda5",
   "metadata": {},
   "outputs": [
    {
     "data": {
      "text/plain": [
       "array([[3, 0, 0],\n",
       "       [0, 1, 2],\n",
       "       [2, 1, 3]], dtype=int64)"
      ]
     },
     "execution_count": 5,
     "metadata": {},
     "output_type": "execute_result"
    }
   ],
   "source": [
    "my_model_evaluation_journey_confusion_matrix(ytrue,ypred)"
   ]
  },
  {
   "cell_type": "code",
   "execution_count": null,
   "id": "29036d80",
   "metadata": {},
   "outputs": [],
   "source": []
  }
 ],
 "metadata": {
  "kernelspec": {
   "display_name": "Python 3 (ipykernel)",
   "language": "python",
   "name": "python3"
  },
  "language_info": {
   "codemirror_mode": {
    "name": "ipython",
    "version": 3
   },
   "file_extension": ".py",
   "mimetype": "text/x-python",
   "name": "python",
   "nbconvert_exporter": "python",
   "pygments_lexer": "ipython3",
   "version": "3.9.18"
  }
 },
 "nbformat": 4,
 "nbformat_minor": 5
}
